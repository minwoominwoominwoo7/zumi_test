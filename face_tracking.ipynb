{
 "cells": [
  {
   "cell_type": "code",
   "execution_count": 1,
   "metadata": {
    "scrolled": true
   },
   "outputs": [
    {
     "name": "stdout",
     "output_type": "stream",
     "text": [
     ]
    }
   ],
   "source": [
    "from zumi.util.camera import Camera \n",
    "from zumi.zumi import Zumi\n",
    "from zumi.util.screen import Screen\n",
    "from zumi.util.vision import Vision\n",
    "from datetime import datetime, timedelta\n",
    "from os import system, name\n",
    "#from zumi.personality import Personality\n",
    "import time\n",
    "\n",
    "lookleft1 = \"/usr/local/lib/python3.5/dist-packages/zumi/util/images/lookleft1.ppm\"\n",
    "lookleft2 = \"/usr/local/lib/python3.5/dist-packages/zumi/util/images/lookleft2.ppm\"\n",
    "lookright1 = \"/usr/local/lib/python3.5/dist-packages/zumi/util/images/lookright1.ppm\"\n",
    "lookright2 = \"/usr/local/lib/python3.5/dist-packages/zumi/util/images/lookright2.ppm\"\n",
    "neutral1 = \"/usr/local/lib/python3.5/dist-packages/zumi/util/images/neutral1.ppm\"\n",
    "disoriented = \"/usr/local/lib/python3.5/dist-packages/zumi/util/images/disoriented.ppm\"\n",
    "\n",
    "zumi = Zumi()\n",
    "camera = Camera()\n",
    "screen = Screen()\n",
    "#personality = Personality(zumi, screen)\n",
    "#personality.awake()\n",
    "vision = Vision()\n",
    "screen.draw_image(screen.path_to_image(neutral1))\n",
    "time.sleep(1)"
   ]
  },
  {
   "cell_type": "code",
   "execution_count": 2,
   "metadata": {},
   "outputs": [
    {
     "name": "stdout",
     "output_type": "stream",
     "text": [
     ]
    }
   ],
   "source": [
    "camera.start_camera() # Turn on the camera"
   ]
  },
  {
   "cell_type": "code",
   "execution_count": null,
   "metadata": {},
   "outputs": [
    {
     "name": "stdout",
     "output_type": "stream",
     "text": [
     ]
    }
   ],
   "source": [
    "#left_area 0 ~ 35   \n",
    "#center_area 35 ~ 55\n",
    "#right_area 55 ~ 90\n",
    "area = [35,55,90]\n",
    "\n",
    "while True:\n",
    "    #user_input = input(\"Press 'enter' to predict or 'q to quit: \")\n",
    "    #if user_input == \"q\":\n",
    "    #    break    \n",
    "    start_time = datetime.now()\n",
    "    image = camera.capture() # Take a picture\n",
    "    height, width, channels = image.shape \n",
    "    gray = vision.convert_to_gray(image) # Convert it to gray\n",
    "    #print('width {0}  height {1} '.format(gray.size().width,gray.size().height))\n",
    "    #print('width {0}  height {1} '.format( width, height ))\n",
    "    #camera.show_image(gray)\n",
    "    test = vision.find_face(gray)\n",
    "    if test == None :\n",
    "        #system('clear') \n",
    "        print (\"there is no face\")\n",
    "        screen.draw_image(screen.path_to_image(disoriented))        \n",
    "    else :\n",
    "        end_time = datetime.now()\n",
    "        delta = end_time-start_time\n",
    "        #system('clear') \n",
    "        #print('x {0}  y {1}  w {2} h {3}   delta time{4}'.format(test[0],test[1],test[2],test[3], delta))\n",
    "        face_x =test[0]\n",
    "        if  face_x < area[0]:\n",
    "            print(\"face left side \")\n",
    "            screen.draw_image(screen.path_to_image(lookright1))\n",
    "        elif  area[0] < face_x < area[1]:\n",
    "            print(\"face center \")\n",
    "            screen.draw_image(screen.path_to_image(neutral1))\n",
    "        else :\n",
    "            screen.draw_image(screen.path_to_image(lookleft1))\n",
    "            print(\"face right side \")      "
   ]
  },
  {
   "cell_type": "code",
   "execution_count": 8,
   "metadata": {},
   "outputs": [
    {
     "name": "stdout",
     "output_type": "stream",
     "text": [
      "Closing PiCamera\n"
     ]
    }
   ],
   "source": [
    "camera.close() # Make sure to close the camera stream"
   ]
  },
  {
   "cell_type": "code",
   "execution_count": null,
   "metadata": {},
   "outputs": [],
   "source": []
  }
 ],
 "metadata": {
  "kernelspec": {
   "display_name": "Python 3",
   "language": "python",
   "name": "python3"
  },
  "language_info": {
   "codemirror_mode": {
    "name": "ipython",
    "version": 3
   },
   "file_extension": ".py",
   "mimetype": "text/x-python",
   "name": "python",
   "nbconvert_exporter": "python",
   "pygments_lexer": "ipython3",
   "version": "3.5.3"
  }
 },
 "nbformat": 4,
 "nbformat_minor": 2
}
